{
 "cells": [
  {
   "cell_type": "code",
   "execution_count": 1,
   "metadata": {},
   "outputs": [],
   "source": [
    "import numpy as np\n",
    "import matplotlib.pyplot as plt\n",
    "import os\n",
    "import cv2"
   ]
  },
  {
   "cell_type": "code",
   "execution_count": 24,
   "metadata": {},
   "outputs": [],
   "source": [
    "TRAIN_DATADIR = '/Volumes/b/Galvanize/DS-RFT4/capstones-RFT4/datasets/covid_pneumonia/712865_1242442_bundle_archive/train'\n",
    "TEST_DATADIR = '/Volumes/b/Galvanize/DS-RFT4/capstones-RFT4/datasets/covid_pneumonia/712865_1242442_bundle_archive/test'\n",
    "\n"
   ]
  },
  {
   "cell_type": "code",
   "execution_count": 21,
   "metadata": {},
   "outputs": [],
   "source": [
    "category = 'COVID-19'\n",
    "path = os.path.join(TRAIN_DATADIR, category)\n",
    "imgs = os.listdir(path)\n",
    "\n",
    "cov_train_len = len(imgs)"
   ]
  },
  {
   "cell_type": "code",
   "execution_count": 22,
   "metadata": {},
   "outputs": [],
   "source": [
    "category = 'Pneumonia'\n",
    "path = os.path.join(TRAIN_DATADIR, category)\n",
    "imgs = os.listdir(path)\n",
    "\n",
    "pneum_train_len = len(imgs)"
   ]
  },
  {
   "cell_type": "code",
   "execution_count": 23,
   "metadata": {},
   "outputs": [],
   "source": [
    "category = 'Normal'\n",
    "path = os.path.join(TRAIN_DATADIR, category)\n",
    "imgs = os.listdir(path)\n",
    "\n",
    "norm_train_len = len(imgs)"
   ]
  },
  {
   "cell_type": "code",
   "execution_count": 25,
   "metadata": {},
   "outputs": [],
   "source": [
    "category = 'COVID-19'\n",
    "path = os.path.join(TEST_DATADIR, category)\n",
    "imgs = os.listdir(path)\n",
    "\n",
    "cov_test_len = len(imgs)"
   ]
  },
  {
   "cell_type": "code",
   "execution_count": 26,
   "metadata": {},
   "outputs": [],
   "source": [
    "category = 'Pneumonia'\n",
    "path = os.path.join(TEST_DATADIR, category)\n",
    "imgs = os.listdir(path)\n",
    "\n",
    "pneum_test_len = len(imgs)"
   ]
  },
  {
   "cell_type": "code",
   "execution_count": 27,
   "metadata": {},
   "outputs": [],
   "source": [
    "category = 'Normal'\n",
    "path = os.path.join(TEST_DATADIR, category)\n",
    "imgs = os.listdir(path)\n",
    "\n",
    "norm_test_len = len(imgs)"
   ]
  },
  {
   "cell_type": "code",
   "execution_count": 32,
   "metadata": {},
   "outputs": [
    {
     "name": "stdout",
     "output_type": "stream",
     "text": [
      "cov train images: 473\n",
      "pneum train images: 5458\n",
      "norm train images: 7966\n",
      "\n",
      "cov test images: 100\n",
      "pneum test images: 100\n",
      "norm test images: 100\n"
     ]
    }
   ],
   "source": [
    "print('cov train images:', cov_train_len)\n",
    "print('pneum train images:', pneum_train_len)\n",
    "print('norm train images:', norm_train_len)\n",
    "print()\n",
    "print('cov test images:', cov_test_len)\n",
    "print('pneum test images:', pneum_test_len)\n",
    "print('norm test images:', norm_test_len)"
   ]
  },
  {
   "cell_type": "code",
   "execution_count": null,
   "metadata": {},
   "outputs": [],
   "source": []
  },
  {
   "cell_type": "code",
   "execution_count": 33,
   "metadata": {},
   "outputs": [],
   "source": [
    "X = ['COVID-19', 'Pneumonia', 'Normal']\n",
    "y = [cov_train_len, pneum_train_len, norm_train_len]"
   ]
  },
  {
   "cell_type": "code",
   "execution_count": 34,
   "metadata": {},
   "outputs": [
    {
     "data": {
      "text/plain": [
       "<BarContainer object of 3 artists>"
      ]
     },
     "execution_count": 34,
     "metadata": {},
     "output_type": "execute_result"
    },
    {
     "data": {
      "image/png": "[encoded data removed]",
      "text/plain": [
       "<Figure size 432x288 with 1 Axes>"
      ]
     },
     "metadata": {
      "needs_background": "light"
     },
     "output_type": "display_data"
    }
   ],
   "source": [
    "plt.bar(X, y)"
   ]
  },
  {
   "cell_type": "code",
   "execution_count": null,
   "metadata": {},
   "outputs": [],
   "source": []
  }
 ],
 "metadata": {
  "kernelspec": {
   "display_name": "Python 3",
   "language": "python",
   "name": "python3"
  },
  "language_info": {
   "codemirror_mode": {
    "name": "ipython",
    "version": 3
   },
   "file_extension": ".py",
   "mimetype": "text/x-python",
   "name": "python",
   "nbconvert_exporter": "python",
   "pygments_lexer": "ipython3",
   "version": "3.8.3"
  }
 },
 "nbformat": 4,
 "nbformat_minor": 4
}
